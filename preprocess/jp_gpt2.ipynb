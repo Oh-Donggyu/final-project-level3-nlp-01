{
 "cells": [
  {
   "cell_type": "code",
   "execution_count": 1,
   "metadata": {},
   "outputs": [],
   "source": [
    "import requests"
   ]
  },
  {
   "cell_type": "code",
   "execution_count": 71,
   "metadata": {},
   "outputs": [],
   "source": [
    "header = {\n",
    "  \"Content-Type\": \"application/x-www-form-urlencoded; charset=UTF-8\",\n",
    "  \"Referer\": \"https://translate.kakao.com/\"\n",
    "}\n",
    "\n",
    "def translate_to_jp(text):\n",
    "  data = {\n",
    "    \"queryLanguage\": \"kr\",\n",
    "    \"resultLanguage\": \"jp\",\n",
    "    \"q\": text\n",
    "  }\n",
    "  k = requests.post(\"https://translate.kakao.com/translator/translate.json\", data=data, headers=header)\n",
    "  return \" \".join([out for array in k.json()[\"result\"][\"output\"] for out in array])\n",
    "\n",
    "def translate_to_kr(text):\n",
    "  data = {\n",
    "    \"queryLanguage\": \"jp\",\n",
    "    \"resultLanguage\": \"kr\",\n",
    "    \"q\": text\n",
    "  }\n",
    "  k = requests.post(\"https://translate.kakao.com/translator/translate.json\", data=data, headers=header)\n",
    "  return \" \".join([out for array in k.json()[\"result\"][\"output\"] for out in array])"
   ]
  },
  {
   "cell_type": "code",
   "execution_count": 108,
   "metadata": {},
   "outputs": [],
   "source": [
    "from transformers import T5Tokenizer, AutoModelForCausalLM\n",
    "\n",
    "tokenizer = T5Tokenizer.from_pretrained(\"rinna/japanese-gpt2-medium\")\n",
    "tokenizer.do_lower_case = True  # due to some bug of tokenizer config loading\n",
    "\n",
    "model = AutoModelForCausalLM.from_pretrained(\"rinna/japanese-gpt2-medium\").cuda()"
   ]
  },
  {
   "cell_type": "code",
   "execution_count": 123,
   "metadata": {},
   "outputs": [],
   "source": [
    "def generate(text, **kwargs):\n",
    "  inputs = tokenizer(translate_to_jp(text), add_special_tokens=False, return_tensors=\"pt\")[\"input_ids\"]\n",
    "  output = model.generate(inputs.cuda(), **kwargs).cpu().numpy()[0]\n",
    "  return translate_to_kr(tokenizer.decode(output))"
   ]
  },
  {
   "cell_type": "code",
   "execution_count": 127,
   "metadata": {},
   "outputs": [
    {
     "name": "stderr",
     "output_type": "stream",
     "text": [
      "Setting `pad_token_id` to `eos_token_id`:2 for open-end generation.\n"
     ]
    },
    {
     "data": {
      "text/plain": [
       "\"근육을 키우기 위해 훈련을 시작한 지 2~3개월이 지난 무렵부터 효능이 있는 것 같습니다. 근육 트레이가 오래 지속되기 어려운 원인 중 하나로는 ‘질리기 쉽다’는 것도 있네요 (웃음) 이 '동기유지방법', '계속하는 요령' '방식대로 개선·향상시키는 것이 가능한 것들'에 대해 소개해 봅니다! “처음에 확인해두고 싶은 게 뭐지?”라고 생각한 분도 있을지도 모릅니다.\""
      ]
     },
     "execution_count": 127,
     "metadata": {},
     "output_type": "execute_result"
    }
   ],
   "source": [
    "한국어입력 = \"근육을 키우기 위해서는 \"\n",
    "generate(한국어입력, do_sample=True, max_length=100, top_k=50, top_p=0.95, repetition_penalty=2.0, early_stpping=True)"
   ]
  }
 ],
 "metadata": {
  "interpreter": {
   "hash": "c19bef1cbba8a75632abea5cc212fd678f0f19ee8666d032b381aa1ce8310bb2"
  },
  "kernelspec": {
   "display_name": "Python 3.8.9 64-bit ('venv': venv)",
   "language": "python",
   "name": "python3"
  },
  "language_info": {
   "codemirror_mode": {
    "name": "ipython",
    "version": 3
   },
   "file_extension": ".py",
   "mimetype": "text/x-python",
   "name": "python",
   "nbconvert_exporter": "python",
   "pygments_lexer": "ipython3",
   "version": "3.8.9"
  },
  "orig_nbformat": 4
 },
 "nbformat": 4,
 "nbformat_minor": 2
}
