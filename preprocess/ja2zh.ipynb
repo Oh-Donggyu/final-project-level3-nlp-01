{
 "cells": [
  {
   "cell_type": "code",
   "execution_count": null,
   "metadata": {},
   "outputs": [],
   "source": [
    "from datasets import load_from_disk\n",
    "\n",
    "kr_jp = load_from_disk('../data/kr_jp_aihub')\n",
    "kr_cn = load_from_disk('../data/kr_cn_aihub')"
   ]
  },
  {
   "cell_type": "code",
   "execution_count": null,
   "metadata": {},
   "outputs": [],
   "source": [
    "pd_jp_train = kr_jp['train'].to_pandas()\n",
    "pd_jp_validation = kr_jp['validation'].to_pandas()\n",
    "pd_cn_train = kr_cn['train'].to_pandas()\n",
    "pd_cn_validation = kr_cn['validation'].to_pandas()"
   ]
  },
  {
   "cell_type": "code",
   "execution_count": null,
   "metadata": {},
   "outputs": [],
   "source": [
    "# pd_jp_train.insert(0, 'lang', 'jp')\n",
    "# pd_cn_train.insert(0, 'lang', 'cn')\n",
    "# pd_jp_validation.insert(0, 'lang', 'jp')\n",
    "# pd_cn_validation.insert(0, 'lang', 'cn')"
   ]
  },
  {
   "cell_type": "code",
   "execution_count": null,
   "metadata": {},
   "outputs": [],
   "source": [
    "pd_train = pd_jp_train.append(pd_cn_train)\n",
    "pd_validation = pd_jp_validation.append(pd_cn_validation)"
   ]
  }
 ],
 "metadata": {
  "language_info": {
   "name": "python"
  },
  "orig_nbformat": 4
 },
 "nbformat": 4,
 "nbformat_minor": 2
}
