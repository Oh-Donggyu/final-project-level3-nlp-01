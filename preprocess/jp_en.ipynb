{
 "cells": [
  {
   "cell_type": "code",
   "execution_count": 1,
   "metadata": {},
   "outputs": [],
   "source": [
    "from datasets import load_from_disk\n",
    "\n",
    "kr_en = load_from_disk('../data/kr_en_aihub')\n",
    "kr_cn = load_from_disk('../data/kr_cn_aihub')"
   ]
  },
  {
   "cell_type": "code",
   "execution_count": 2,
   "metadata": {},
   "outputs": [],
   "source": [
    "pd_jp_train = kr_en['train'].to_pandas()\n",
    "pd_jp_validation = kr_en['validation'].to_pandas()\n",
    "pd_cn_train = kr_cn['train'].to_pandas()\n",
    "pd_cn_validation = kr_cn['validation'].to_pandas()"
   ]
  },
  {
   "cell_type": "code",
   "execution_count": 3,
   "metadata": {},
   "outputs": [],
   "source": [
    "pd_jp_train.insert(0, 'lang', 'en')\n",
    "pd_cn_train.insert(0, 'lang', 'cn')\n",
    "pd_jp_validation.insert(0, 'lang', 'en')\n",
    "pd_cn_validation.insert(0, 'lang', 'cn')"
   ]
  },
  {
   "cell_type": "code",
   "execution_count": 4,
   "metadata": {},
   "outputs": [],
   "source": [
    "pd_train = pd_jp_train.append(pd_cn_train)\n",
    "pd_validation = pd_jp_validation.append(pd_cn_validation)"
   ]
  },
  {
   "cell_type": "code",
   "execution_count": 5,
   "metadata": {},
   "outputs": [],
   "source": [
    "pd_train['text'] = pd_train['text'].apply(lambda x: x.replace(' ', ''))\n",
    "pd_validation['text'] = pd_validation['text'].apply(lambda x: x.replace(' ', ''))"
   ]
  },
  {
   "cell_type": "code",
   "execution_count": 6,
   "metadata": {},
   "outputs": [],
   "source": [
    "pd_train = pd_train[pd_train.duplicated(subset=['text'], keep=False)]\n",
    "pd_validation = pd_validation[pd_validation.duplicated(subset=['text'], keep=False)]"
   ]
  },
  {
   "cell_type": "code",
   "execution_count": 7,
   "metadata": {},
   "outputs": [
    {
     "name": "stderr",
     "output_type": "stream",
     "text": [
      "250736it [00:14, 17235.51it/s]\n"
     ]
    }
   ],
   "source": [
    "from tqdm import tqdm\n",
    "\n",
    "train_dict = {}\n",
    "\n",
    "for idx, row in tqdm(pd_train.iterrows()):\n",
    "  if row['text'] not in train_dict.keys():\n",
    "    train_dict[row['text']] = {}\n",
    "  train_dict[row['text']][row['lang']] = row['target']"
   ]
  },
  {
   "cell_type": "code",
   "execution_count": 8,
   "metadata": {},
   "outputs": [
    {
     "name": "stderr",
     "output_type": "stream",
     "text": [
      "492it [00:00, 14916.42it/s]\n"
     ]
    }
   ],
   "source": [
    "from tqdm import tqdm\n",
    "\n",
    "validation_dict = {}\n",
    "\n",
    "for idx, row in tqdm(pd_validation.iterrows()):\n",
    "  if row['text'] not in validation_dict.keys():\n",
    "    validation_dict[row['text']] = {}\n",
    "  validation_dict[row['text']][row['lang']] = row['target']"
   ]
  },
  {
   "cell_type": "code",
   "execution_count": 9,
   "metadata": {},
   "outputs": [],
   "source": [
    "del_train = []\n",
    "del_validation = []\n",
    "for key in train_dict.keys():\n",
    "  if len(train_dict[key]) != 2:\n",
    "    del_train.append(key)\n",
    "for key in validation_dict.keys():\n",
    "  if len(validation_dict[key]) != 2:\n",
    "    del_validation.append(key)\n",
    "for key in del_train:\n",
    "  del train_dict[key]\n",
    "for key in del_validation:\n",
    "  del validation_dict[key]"
   ]
  },
  {
   "cell_type": "code",
   "execution_count": 10,
   "metadata": {},
   "outputs": [
    {
     "data": {
      "text/plain": [
       "107066"
      ]
     },
     "execution_count": 10,
     "metadata": {},
     "output_type": "execute_result"
    }
   ],
   "source": [
    "len(train_dict.keys())"
   ]
  },
  {
   "cell_type": "code",
   "execution_count": 11,
   "metadata": {},
   "outputs": [],
   "source": [
    "train = {\n",
    "  'id': [],\n",
    "  'title': [],\n",
    "  'text': [],\n",
    "  'target': []\n",
    "}\n",
    "\n",
    "validation = {\n",
    "  'id': [],\n",
    "  'title': [],\n",
    "  'text': [],\n",
    "  'target': []\n",
    "}\n",
    "\n",
    "for idx, key in enumerate(train_dict.keys()):\n",
    "  train['id'].append(str(idx))\n",
    "  train['title'].append('aihub')\n",
    "  train['text'].append(train_dict[key]['en'])\n",
    "  train['target'].append(train_dict[key]['cn'])\n",
    "\n",
    "for idx, key in enumerate(validation_dict.keys()):\n",
    "  validation['id'].append(str(idx))\n",
    "  validation['title'].append('aihub')\n",
    "  validation['text'].append(validation_dict[key]['en'])\n",
    "  validation['target'].append(validation_dict[key]['cn'])"
   ]
  },
  {
   "cell_type": "code",
   "execution_count": 12,
   "metadata": {},
   "outputs": [],
   "source": [
    "from datasets import Dataset, DatasetDict\n",
    "\n",
    "train_datasets = Dataset.from_dict(train)\n",
    "validation_datasets = Dataset.from_dict(validation)"
   ]
  },
  {
   "cell_type": "code",
   "execution_count": 13,
   "metadata": {},
   "outputs": [],
   "source": [
    "jp_cn_datasets = DatasetDict({\n",
    "  'train': train_datasets,\n",
    "  'validation': validation_datasets\n",
    "})"
   ]
  },
  {
   "cell_type": "code",
   "execution_count": 15,
   "metadata": {},
   "outputs": [
    {
     "data": {
      "text/plain": [
       "{'id': '0',\n",
       " 'title': 'aihub',\n",
       " 'text': 'Nissan and Renault are at odds over the leadership of the combined system after former chairman Carlos Ghosn was arrested by Japanese prosecutors last November.',\n",
       " 'target': '去年11月前会长卡洛斯·戈恩被日本检察机关逮捕后,日产和雷诺围绕联合体制的主导权产生了矛盾。'}"
      ]
     },
     "execution_count": 15,
     "metadata": {},
     "output_type": "execute_result"
    }
   ],
   "source": [
    "jp_cn_datasets['train'][0]"
   ]
  },
  {
   "cell_type": "code",
   "execution_count": 16,
   "metadata": {},
   "outputs": [],
   "source": [
    "jp_cn_datasets.save_to_disk('../data/en_cn_aihub')"
   ]
  }
 ],
 "metadata": {
  "interpreter": {
   "hash": "c19bef1cbba8a75632abea5cc212fd678f0f19ee8666d032b381aa1ce8310bb2"
  },
  "kernelspec": {
   "display_name": "Python 3.8.9 64-bit ('venv': venv)",
   "language": "python",
   "name": "python3"
  },
  "language_info": {
   "codemirror_mode": {
    "name": "ipython",
    "version": 3
   },
   "file_extension": ".py",
   "mimetype": "text/x-python",
   "name": "python",
   "nbconvert_exporter": "python",
   "pygments_lexer": "ipython3",
   "version": "3.8.9"
  },
  "orig_nbformat": 4
 },
 "nbformat": 4,
 "nbformat_minor": 2
}
